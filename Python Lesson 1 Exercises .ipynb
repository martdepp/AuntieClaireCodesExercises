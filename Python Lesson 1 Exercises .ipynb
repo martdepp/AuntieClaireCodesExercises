{
 "cells": [
  {
   "cell_type": "code",
   "execution_count": 1,
   "id": "5a181bd1",
   "metadata": {},
   "outputs": [
    {
     "name": "stdout",
     "output_type": "stream",
     "text": [
      "4\n"
     ]
    }
   ],
   "source": [
    "#Fill the print function so it prints girls_playing\n",
    "\n",
    "girls_playing = 3\n",
    "\n",
    "girls_playing = girls_playing + 1\n",
    "\n",
    "\n",
    "print(girls_playing)"
   ]
  },
  {
   "cell_type": "code",
   "execution_count": 4,
   "id": "919d6a85",
   "metadata": {},
   "outputs": [
    {
     "name": "stdout",
     "output_type": "stream",
     "text": [
      "They are 4 girls playing today.\n"
     ]
    }
   ],
   "source": [
    "#Assign a number to the variable: girls_playing\n",
    "\n",
    "girls_playing = 4\n",
    "\n",
    "print(\"They are\",girls_playing, \"girls playing today.\")"
   ]
  },
  {
   "cell_type": "code",
   "execution_count": 16,
   "id": "cd07e7e0",
   "metadata": {},
   "outputs": [
    {
     "name": "stdout",
     "output_type": "stream",
     "text": [
      "False\n"
     ]
    }
   ],
   "source": [
    "#Assign Boolean to the variable below then print it.\n",
    "\n",
    "alive = False\n",
    "print(alive)"
   ]
  },
  {
   "cell_type": "code",
   "execution_count": null,
   "id": "07541da3",
   "metadata": {},
   "outputs": [],
   "source": []
  }
 ],
 "metadata": {
  "kernelspec": {
   "display_name": "Python 3 (ipykernel)",
   "language": "python",
   "name": "python3"
  },
  "language_info": {
   "codemirror_mode": {
    "name": "ipython",
    "version": 3
   },
   "file_extension": ".py",
   "mimetype": "text/x-python",
   "name": "python",
   "nbconvert_exporter": "python",
   "pygments_lexer": "ipython3",
   "version": "3.9.12"
  }
 },
 "nbformat": 4,
 "nbformat_minor": 5
}
