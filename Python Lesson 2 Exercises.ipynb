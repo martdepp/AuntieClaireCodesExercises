{
 "cells": [
  {
   "cell_type": "code",
   "execution_count": 1,
   "id": "4e3d6cb6",
   "metadata": {},
   "outputs": [
    {
     "name": "stdout",
     "output_type": "stream",
     "text": [
      "Auntie Claire Codes Academy\n"
     ]
    }
   ],
   "source": [
    "#Print the name of your school in anaconda\n",
    "\n",
    "school = \"Auntie Claire Codes Academy\"\n",
    "\n",
    "print(school)"
   ]
  },
  {
   "cell_type": "code",
   "execution_count": 9,
   "id": "2d9e34da",
   "metadata": {},
   "outputs": [
    {
     "name": "stdout",
     "output_type": "stream",
     "text": [
      "Auntie \n",
      "Claire \n",
      "Codes\n",
      "\n",
      "Auntie\n",
      "Claire\n",
      "Codes\n"
     ]
    }
   ],
   "source": [
    "#Print three words let each word be on its own line\n",
    "\n",
    "print(\"Auntie\", \"\\nClaire\", \"\\nCodes\")\n",
    "\n",
    "print(\"\")\n",
    "#To create a paragraph\n",
    "\n",
    "#or\n",
    "\n",
    "print(\"Auntie\")\n",
    "print(\"Claire\")\n",
    "print(\"Codes\")"
   ]
  },
  {
   "cell_type": "code",
   "execution_count": 11,
   "id": "5e34f899",
   "metadata": {},
   "outputs": [
    {
     "name": "stdout",
     "output_type": "stream",
     "text": [
      "8\n"
     ]
    }
   ],
   "source": [
    "#Use len to give me the size of the word ‘anaconda’\n",
    "\n",
    "word_size = len(\"anaconda\")\n",
    "\n",
    "print(word_size)"
   ]
  },
  {
   "cell_type": "code",
   "execution_count": null,
   "id": "cc3546ee",
   "metadata": {},
   "outputs": [],
   "source": []
  }
 ],
 "metadata": {
  "kernelspec": {
   "display_name": "Python 3 (ipykernel)",
   "language": "python",
   "name": "python3"
  },
  "language_info": {
   "codemirror_mode": {
    "name": "ipython",
    "version": 3
   },
   "file_extension": ".py",
   "mimetype": "text/x-python",
   "name": "python",
   "nbconvert_exporter": "python",
   "pygments_lexer": "ipython3",
   "version": "3.9.12"
  }
 },
 "nbformat": 4,
 "nbformat_minor": 5
}
