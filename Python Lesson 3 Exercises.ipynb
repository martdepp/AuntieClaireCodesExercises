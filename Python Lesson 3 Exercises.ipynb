{
 "cells": [
  {
   "cell_type": "code",
   "execution_count": 3,
   "id": "bd45a918",
   "metadata": {},
   "outputs": [
    {
     "ename": "TypeError",
     "evalue": "format expected at least 1 argument, got 0",
     "output_type": "error",
     "traceback": [
      "\u001b[1;31m---------------------------------------------------------------------------\u001b[0m",
      "\u001b[1;31mTypeError\u001b[0m                                 Traceback (most recent call last)",
      "Input \u001b[1;32mIn [3]\u001b[0m, in \u001b[0;36m<cell line: 7>\u001b[1;34m()\u001b[0m\n\u001b[0;32m      1\u001b[0m \u001b[38;5;66;03m#List 10 string methods\u001b[39;00m\n\u001b[0;32m      2\u001b[0m \u001b[38;5;66;03m#Explain what each method does and provide an example\u001b[39;00m\n\u001b[0;32m      3\u001b[0m \n\u001b[0;32m      4\u001b[0m \u001b[38;5;66;03m#count()\u001b[39;00m\n\u001b[0;32m      5\u001b[0m \u001b[38;5;66;03m#returns the number of times a given value appears in a string\u001b[39;00m\n\u001b[1;32m----> 7\u001b[0m \u001b[38;5;28;43mformat\u001b[39;49m\u001b[43m(\u001b[49m\u001b[43m)\u001b[49m\n\u001b[0;32m      8\u001b[0m \u001b[38;5;66;03m#formats specified values in a string\u001b[39;00m\n\u001b[0;32m     10\u001b[0m index()\n",
      "\u001b[1;31mTypeError\u001b[0m: format expected at least 1 argument, got 0"
     ]
    }
   ],
   "source": [
    "#List 10 string methods\n",
    "#Explain what each method does and provide an example\n",
    "\n",
    "count()\n",
    "#returns the number of times a given value appears in a string\n",
    "\n",
    "format()\n",
    "#formats specified values in a string\n",
    "\n",
    "index()\n",
    "#searches the string for a specified value and returns the position of where it has been found\n",
    "\n",
    "upper()\n",
    "#converts the string to upper case\n",
    "\n",
    "lower()\n",
    "#converts the string to lower case\n",
    "\n",
    "capitalize()\n",
    "#converts the first character of a string to a capital letter\n",
    "\n",
    "find()\n",
    "#searches the string for a given value and returns its position\n",
    "\n",
    "isdigit()\n",
    "#returns true if all characters in the string are digits\n",
    "\n",
    "isnumeric()\n",
    "#returns true if all characters in the string are numeric\n",
    "\n",
    "replace()\n",
    "#replaces a given value in a string with a given value"
   ]
  },
  {
   "cell_type": "code",
   "execution_count": null,
   "id": "3585d44e",
   "metadata": {},
   "outputs": [],
   "source": []
  }
 ],
 "metadata": {
  "kernelspec": {
   "display_name": "Python 3 (ipykernel)",
   "language": "python",
   "name": "python3"
  },
  "language_info": {
   "codemirror_mode": {
    "name": "ipython",
    "version": 3
   },
   "file_extension": ".py",
   "mimetype": "text/x-python",
   "name": "python",
   "nbconvert_exporter": "python",
   "pygments_lexer": "ipython3",
   "version": "3.9.12"
  }
 },
 "nbformat": 4,
 "nbformat_minor": 5
}
