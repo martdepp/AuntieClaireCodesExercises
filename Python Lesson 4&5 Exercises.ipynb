{
 "cells": [
  {
   "cell_type": "markdown",
   "id": "1005e618",
   "metadata": {},
   "source": [
    "# Print Formatting"
   ]
  },
  {
   "cell_type": "code",
   "execution_count": 1,
   "id": "658246bf",
   "metadata": {},
   "outputs": [
    {
     "name": "stdout",
     "output_type": "stream",
     "text": [
      "Python rules!\n"
     ]
    }
   ],
   "source": [
    "print(\"{} rules!\".format(\"Python\"))"
   ]
  },
  {
   "cell_type": "code",
   "execution_count": 10,
   "id": "4ed4bbe1",
   "metadata": {},
   "outputs": [
    {
     "name": "stdout",
     "output_type": "stream",
     "text": [
      "['me', 'solo']\n"
     ]
    }
   ],
   "source": [
    "name = ['me','solo','boy']\n",
    "name.pop()\n",
    "print(name)\n",
    "\n",
    "#name.pop() removes items from a given index and returns the removed items."
   ]
  },
  {
   "cell_type": "code",
   "execution_count": 12,
   "id": "58538e53",
   "metadata": {},
   "outputs": [
    {
     "name": "stdout",
     "output_type": "stream",
     "text": [
      "boy\n"
     ]
    }
   ],
   "source": [
    "name = ['me','solo','boy']\n",
    "print(name[-1])\n",
    "\n",
    "#prints the last item in the list"
   ]
  },
  {
   "cell_type": "code",
   "execution_count": 16,
   "id": "0bd79ee7",
   "metadata": {},
   "outputs": [
    {
     "name": "stdout",
     "output_type": "stream",
     "text": [
      "3\n"
     ]
    }
   ],
   "source": [
    "ans = len(name)\n",
    "print(ans)\n",
    "\n",
    "#prints the length of the list"
   ]
  },
  {
   "cell_type": "code",
   "execution_count": 17,
   "id": "76a35de8",
   "metadata": {},
   "outputs": [
    {
     "name": "stdout",
     "output_type": "stream",
     "text": [
      "['me', 'solo', 'boy', 6]\n"
     ]
    }
   ],
   "source": [
    "name.append(6)\n",
    "print(name)\n",
    "\n",
    "#adds 6 to the list"
   ]
  },
  {
   "cell_type": "code",
   "execution_count": 18,
   "id": "190018fd",
   "metadata": {},
   "outputs": [
    {
     "name": "stdout",
     "output_type": "stream",
     "text": [
      "['first', 'me', 'solo', 'boy', 6]\n"
     ]
    }
   ],
   "source": [
    "name.insert(0,'first')\n",
    "print(name)\n",
    "\n",
    "#inserts items at the front of the list"
   ]
  },
  {
   "cell_type": "code",
   "execution_count": 19,
   "id": "6c36e0a0",
   "metadata": {},
   "outputs": [
    {
     "name": "stdout",
     "output_type": "stream",
     "text": [
      "[0, 1, 2, 4, 6, 7, 9, 10]\n"
     ]
    }
   ],
   "source": [
    "nums = [10,4,6,2,7,1,9,0]\n",
    "nums.sort()\n",
    "print(nums)\n",
    "\n",
    "#sorts the list in ascending order"
   ]
  },
  {
   "cell_type": "code",
   "execution_count": 20,
   "id": "07394adf",
   "metadata": {},
   "outputs": [
    {
     "name": "stdout",
     "output_type": "stream",
     "text": [
      "[0, 12, [2, 6, 'me', 7], 4, 10]\n"
     ]
    }
   ],
   "source": [
    "my_list = [10,4,[2,6,'me',7],12,0]\n",
    "my_list.reverse()\n",
    "print(my_list)"
   ]
  },
  {
   "cell_type": "code",
   "execution_count": 22,
   "id": "8c8f939b",
   "metadata": {},
   "outputs": [
    {
     "name": "stdout",
     "output_type": "stream",
     "text": [
      "0\n"
     ]
    }
   ],
   "source": [
    "print(my_list[0])"
   ]
  },
  {
   "cell_type": "code",
   "execution_count": 26,
   "id": "8491fc38",
   "metadata": {},
   "outputs": [
    {
     "name": "stdout",
     "output_type": "stream",
     "text": [
      "me\n"
     ]
    }
   ],
   "source": [
    "new_list = my_list[2]\n",
    "print(new_list[2])\n"
   ]
  },
  {
   "cell_type": "code",
   "execution_count": null,
   "id": "1deec545",
   "metadata": {},
   "outputs": [],
   "source": []
  }
 ],
 "metadata": {
  "kernelspec": {
   "display_name": "Python 3 (ipykernel)",
   "language": "python",
   "name": "python3"
  },
  "language_info": {
   "codemirror_mode": {
    "name": "ipython",
    "version": 3
   },
   "file_extension": ".py",
   "mimetype": "text/x-python",
   "name": "python",
   "nbconvert_exporter": "python",
   "pygments_lexer": "ipython3",
   "version": "3.9.12"
  }
 },
 "nbformat": 4,
 "nbformat_minor": 5
}
