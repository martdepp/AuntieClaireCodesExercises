{
 "cells": [
  {
   "cell_type": "code",
   "execution_count": 7,
   "id": "009b4453",
   "metadata": {},
   "outputs": [
    {
     "name": "stdout",
     "output_type": "stream",
     "text": [
      "['anna', 'steve', 'max', 'steve']\n",
      "['anna', 32, True, False, 0.8, 'bob']\n"
     ]
    }
   ],
   "source": [
    "#Understanding of Lists and Dictionaries\n",
    "\n",
    "#Lists are data structures that are changeable, ordered sequence of items that are represented by square brackets.\n",
    "#Lists also allow all data types and duplicates\n",
    "#For example; \n",
    "myList = [\"anna\",\"steve\",\"max\", \"steve\"]\n",
    "myList2 = [\"anna\",32,True,False,0.8,\"bob\"]\n",
    "print(myList)\n",
    "print(myList2)\n"
   ]
  },
  {
   "cell_type": "code",
   "execution_count": 3,
   "id": "cd74e9ba",
   "metadata": {},
   "outputs": [
    {
     "data": {
      "text/plain": [
       "'steve'"
      ]
     },
     "execution_count": 3,
     "metadata": {},
     "output_type": "execute_result"
    }
   ],
   "source": [
    "#Dictionaries are unordered containers, that map unique keys to values.\n",
    "#For example; \n",
    "my_dict = {\"a\":\"anna\",\"b\":\"steve\",\"c\":\"max\"}\n",
    "my_dict.get(\"b\")\n"
   ]
  },
  {
   "cell_type": "code",
   "execution_count": 5,
   "id": "cc62c10d",
   "metadata": {},
   "outputs": [
    {
     "name": "stdout",
     "output_type": "stream",
     "text": [
      "{'a': 'anna', 'b': 'steve', 'c': 'max', 'd': 'danny'}\n",
      "['anna', 'danny', 'max']\n"
     ]
    }
   ],
   "source": [
    "#Similarities between lists and dictionaries\n",
    "#Both lists and dictionaries are changeable datatypes.\n",
    "#For instance;\n",
    "\n",
    "#Adding an item in a dictionary\n",
    "my_dict[\"d\"] = \"danny\"\n",
    "print(my_dict)\n",
    "\n",
    "#Adding an item in a list\n",
    "myList[1] = \"danny\"\n",
    "print(myList)"
   ]
  },
  {
   "cell_type": "code",
   "execution_count": 8,
   "id": "718aa57c",
   "metadata": {},
   "outputs": [],
   "source": [
    "#Differences between lists and dictionaries\n",
    "#Lists are like arrays in C++, and can hold all data types while;\n",
    "#Dictionaries are an unordered collection of data values that store data in form of a map.\n",
    "#Dictionaries hold data in a Key:Value pair format\n",
    "\n",
    "#Example of a dictionary;\n",
    "my_dict = {\"a\":\"anna\",\"b\":\"steve\",\"c\":\"max\"}\n",
    "#Example of a Lists;\n",
    "myList2 = [\"anna\",32,True,False,0.8,\"bob\"]"
   ]
  },
  {
   "cell_type": "code",
   "execution_count": null,
   "id": "0ec53de8",
   "metadata": {},
   "outputs": [],
   "source": []
  }
 ],
 "metadata": {
  "kernelspec": {
   "display_name": "Python 3 (ipykernel)",
   "language": "python",
   "name": "python3"
  },
  "language_info": {
   "codemirror_mode": {
    "name": "ipython",
    "version": 3
   },
   "file_extension": ".py",
   "mimetype": "text/x-python",
   "name": "python",
   "nbconvert_exporter": "python",
   "pygments_lexer": "ipython3",
   "version": "3.9.12"
  }
 },
 "nbformat": 4,
 "nbformat_minor": 5
}
